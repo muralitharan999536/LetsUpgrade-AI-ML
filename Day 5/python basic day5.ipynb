{
 "cells": [
  {
   "cell_type": "markdown",
   "metadata": {},
   "source": [
    "__Question 1 :\n",
    "Write a Python program to find the first 20 non-even prime natural numbers.__\n"
   ]
  },
  {
   "cell_type": "code",
   "execution_count": 33,
   "metadata": {},
   "outputs": [
    {
     "name": "stdout",
     "output_type": "stream",
     "text": [
      "First 20 prime numbers: 74\n",
      "3 5 7 11 13 17 19 23 29 31 37 41 43 47 53 59 61 67 71 73 "
     ]
    }
   ],
   "source": [
    "#First 20 prime numbers.\n",
    "num=74\n",
    "print(\"First 20 prime numbers:\",num)\n",
    "for i in range(3,num):\n",
    "    for j in range(2,i):\n",
    "        if i%j==0:\n",
    "            break\n",
    "            \n",
    "    else:\n",
    "        \n",
    "            print(i,end=\" \")\n",
    "\n",
    "\n",
    "            \n",
    "\n",
    "            \n",
    "            "
   ]
  },
  {
   "cell_type": "markdown",
   "metadata": {},
   "source": [
    "__Question 2 :\n",
    "Write a Python program to implement 15 functions of string.__\n"
   ]
  },
  {
   "cell_type": "code",
   "execution_count": 67,
   "metadata": {},
   "outputs": [
    {
     "name": "stdout",
     "output_type": "stream",
     "text": [
      "THARAN\n",
      "tharan\n",
      "Tharan\n",
      "                      THARAN                      \n",
      "5\n",
      "['hello', 'would']\n",
      "Tharan\n",
      "hello my would\n",
      "t#h#a#r#a#n\n",
      "True\n",
      "True\n",
      "True\n",
      "True\n",
      "True\n",
      "HELLO wOULd\n"
     ]
    }
   ],
   "source": [
    "a=\"tharan\"\n",
    "#converts the characters to upper case.\n",
    "print(str.upper(a))\n",
    "b=\"THARAN\"\n",
    "#converts the characters to lower case. \n",
    "print(str.lower(b))\n",
    "c=\"tharan\"\n",
    "#converts the first character to upper case.\n",
    "print(str.capitalize(c))\n",
    "d=\"THARAN\"\n",
    "#return a pacify string.\n",
    "print(d.center(50))\n",
    "e=\"helo would\"\n",
    "# find how many characters in string.\n",
    "print(e.index(\"would\"))\n",
    "f=\"hello would\"\n",
    "# help to split the characters.\n",
    "print(str.split(f))\n",
    "g=\"Tharan\"\n",
    "# help to create title.\n",
    "print(str.title(g))\n",
    "h=\"my\"\n",
    "# add character to line.\n",
    "print(\"hello\",str.rstrip(h),\"would\")\n",
    "i=\"tharan\"\n",
    "#join symbol in to character.\n",
    "print(\"#\".join(i))\n",
    "j=\"THARAN\"\n",
    "# help to analysis character is upper .\n",
    "print(str.isupper(j))\n",
    "k=\"tharan\"\n",
    "# help to analysis character is lower .\n",
    "print(str.islower(k))\n",
    "l=\"8976\"\n",
    "# help to analysis character is digit or not.\n",
    "print(str.isdigit(l))\n",
    "m=\"tharan\"\n",
    "# helps to endcharacter is true.\n",
    "print(m.endswith(\"n\"))\n",
    "n=\"tharan\"\n",
    "# helps to startcharacter is true.\n",
    "print(n.startswith(\"t\"))\n",
    "o=\"hello WoulD\"\n",
    "#it would change characters lower to upper and upper to lower.\n",
    "print(o.swapcase())\n"
   ]
  },
  {
   "cell_type": "markdown",
   "metadata": {},
   "source": [
    "__Question 3:\n",
    "Write a Python program to check if the given string is a Palindrome or Anagram or None of them.\n",
    "Display the message accordingly to the user.__\n"
   ]
  },
  {
   "cell_type": "code",
   "execution_count": 5,
   "metadata": {},
   "outputs": [
    {
     "name": "stdout",
     "output_type": "stream",
     "text": [
      "Enter the word:earth\n",
      "Enter the word:heart\n",
      "Anagrams\n"
     ]
    }
   ],
   "source": [
    "string1=input(\"Enter the word:\")\n",
    "rev_string=string1[::-1]\n",
    "if rev_string==string1:\n",
    "    print(\"Polindrome\")\n",
    "else:\n",
    "        string2=input(\"Enter the word:\")\n",
    "        str1=sorted(string1)#sort a word as alphabet wise \n",
    "        str2=sorted(string2)\n",
    "        if str1==str2:\n",
    "            print(\"Anagrams\")\n",
    "        else:\n",
    "            print(\"None\")\n",
    "\n",
    "        "
   ]
  },
  {
   "cell_type": "markdown",
   "metadata": {},
   "source": [
    "__Question 4:\n",
    "Write a Python's user defined function that removes all the additional characters from the string\n",
    "and converts it finally to lower case using built-in lower(). eg: If the string is \"Dr. Darshan Ingle\n",
    "@AI-ML Trainer\", then the output be \"drdarshaningleaimltrainer\".__"
   ]
  },
  {
   "cell_type": "code",
   "execution_count": 15,
   "metadata": {},
   "outputs": [
    {
     "name": "stdout",
     "output_type": "stream",
     "text": [
      "Enter the string:eadK$\n",
      "eadk\n"
     ]
    }
   ],
   "source": [
    "string=input(\"Enter the string:\")\n",
    "characters=\"\"\n",
    "for i in string:\n",
    "    if i.isalnum():\n",
    "        characters=characters+i\n",
    "characters=characters.lower()\n",
    "print(characters)"
   ]
  }
 ],
 "metadata": {
  "kernelspec": {
   "display_name": "Python 3",
   "language": "python",
   "name": "python3"
  }
 },
 "nbformat": 4,
 "nbformat_minor": 4
}
