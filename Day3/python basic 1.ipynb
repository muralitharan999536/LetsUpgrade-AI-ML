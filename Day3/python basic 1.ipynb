{
 "cells": [
  {
   "cell_type": "code",
   "execution_count": 6,
   "metadata": {},
   "outputs": [
    {
     "name": "stdout",
     "output_type": "stream",
     "text": [
      "(-6+52j)\n"
     ]
    },
    {
     "data": {
      "text/plain": [
       "complex"
      ]
     },
     "execution_count": 6,
     "metadata": {},
     "output_type": "execute_result"
    }
   ],
   "source": [
    "#Question 1 :\n",
    "#Write a program to subtract two complex numbers in Python.\n",
    "a=56j\n",
    "b=6+4j\n",
    "c=a-b\n",
    "print(c)\n",
    "type(c)"
   ]
  },
  {
   "cell_type": "code",
   "execution_count": 13,
   "metadata": {},
   "outputs": [
    {
     "name": "stdout",
     "output_type": "stream",
     "text": [
      "625\n"
     ]
    }
   ],
   "source": [
    "#Question 2 :\n",
    "#Write a program to find the fourth root of a number.\n",
    "a=5\n",
    "n=4\n",
    "c=a**4\n",
    "print(c)\n"
   ]
  },
  {
   "cell_type": "code",
   "execution_count": 15,
   "metadata": {},
   "outputs": [
    {
     "name": "stdout",
     "output_type": "stream",
     "text": [
      "20\n",
      "10\n"
     ]
    }
   ],
   "source": [
    "#Question 3:\n",
    "#Write a program to swap two numbers in Python with the help of a temporary variable.\n",
    "a=10\n",
    "b=20\n",
    "temp=a\n",
    "a=b\n",
    "b=temp\n",
    "print(a)\n",
    "print(b)"
   ]
  },
  {
   "cell_type": "code",
   "execution_count": 16,
   "metadata": {},
   "outputs": [
    {
     "name": "stdout",
     "output_type": "stream",
     "text": [
      "20\n",
      "10\n"
     ]
    }
   ],
   "source": [
    "#Question 4:\n",
    "#Write a program to swap two numbers in Python without using a temporary variable.\n",
    "a=10\n",
    "b=20\n",
    "a,b=b,a\n",
    "print(a)\n",
    "print(b)"
   ]
  },
  {
   "cell_type": "code",
   "execution_count": 28,
   "metadata": {},
   "outputs": [
    {
     "name": "stdout",
     "output_type": "stream",
     "text": [
      "ENTER TEMPERTURE IN FAHRENHEIT:56\n",
      "TEMPERTURE IN KELVIN IS: 286.5\n",
      "TEMPERTURE IN CELSIUS IS: 13.3\n"
     ]
    }
   ],
   "source": [
    "#Question 5:\n",
    "#Write a program to convert fahrenheit to kelvin and celsius both.\n",
    "F=float(input(\"ENTER TEMPERTURE IN FAHRENHEIT:\"))\n",
    "k=round((F+459.67)/1.8,1)\n",
    "C=round((F-32)*5/9,1)\n",
    "print(\"TEMPERTURE IN KELVIN IS:\",k)\n",
    "print(\"TEMPERTURE IN CELSIUS IS:\",C)"
   ]
  },
  {
   "cell_type": "code",
   "execution_count": 47,
   "metadata": {},
   "outputs": [
    {
     "name": "stdout",
     "output_type": "stream",
     "text": [
      "5\n",
      "<class 'int'>\n",
      "4.6\n",
      "<class 'float'>\n",
      "tharan\n",
      "<class 'str'>\n",
      "(6+6j)\n",
      "<class 'complex'>\n",
      "True\n",
      "<class 'bool'>\n"
     ]
    }
   ],
   "source": [
    "#Question 6:\n",
    "#Write a program to demonstrate all the available data types in Python. Hint: Use type() function.\n",
    "a=5\n",
    "print(a)\n",
    "print(type(a))\n",
    "b=4.6\n",
    "print(b)\n",
    "print(type(b))\n",
    "c=\"tharan\"\n",
    "print(c)\n",
    "print(type(c))\n",
    "d=6+6j\n",
    "print(d)\n",
    "print(type(d))\n",
    "e=True\n",
    "print(e)\n",
    "print(type(e))"
   ]
  },
  {
   "cell_type": "markdown",
   "metadata": {},
   "source": [
    "#Question 7:\n",
    "#Create a Markdown cell in jupyter and list the steps discussed in the session by Dr. DarshanIngle sir\n",
    "to create Github profile and upload Githubs Assignment link.\n",
    "\n",
    "step1:Create a profile in github.\n",
    "\n",
    "step2:After complete the assignment save it in folder \"day3\".\n",
    "\n",
    "step3:Then open the github and click on \"new\" button.\n",
    "\n",
    "step4:Give the name as letsupgrade AL-ML in \"repository name\" and fill the description column as assignment.don't touch anything lets leave it as public.\n",
    "\n",
    "step5:Then click on creating repository.\n",
    "\n",
    "step6:After that letsupgrade AL-ML folder would be created.then click on the upload button.\n",
    "\n",
    "step7:Drag and drop on file and click on commit change.then copy the perticular folder link.\n",
    "\n",
    "step8:Finally past that link in given assignment link and fill the other details.\n",
    "\n",
    "    "
   ]
  },
  {
   "cell_type": "code",
   "execution_count": null,
   "metadata": {},
   "outputs": [],
   "source": []
  }
 ],
 "metadata": {
  "kernelspec": {
   "display_name": "Python 3",
   "language": "python",
   "name": "python3"
  },
  "language_info": {
   "codemirror_mode": {
    "name": "ipython",
    "version": 3
   },
   "file_extension": ".py",
   "mimetype": "text/x-python",
   "name": "python",
   "nbconvert_exporter": "python",
   "pygments_lexer": "ipython3",
   "version": "3.7.6"
  }
 },
 "nbformat": 4,
 "nbformat_minor": 4
}
