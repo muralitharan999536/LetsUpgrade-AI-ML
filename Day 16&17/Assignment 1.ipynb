{
 "cells": [
  {
   "cell_type": "code",
   "execution_count": 1,
   "metadata": {},
   "outputs": [],
   "source": [
    "%matplotlib inline\n",
    "import pandas as pd\n",
    "import numpy as np\n"
   ]
  },
  {
   "cell_type": "code",
   "execution_count": 31,
   "metadata": {},
   "outputs": [
    {
     "ename": "FileNotFoundError",
     "evalue": "[Errno 2] No such file or directory: 'style-table.css'",
     "output_type": "error",
     "traceback": [
      "\u001b[1;31m---------------------------------------------------------------------------\u001b[0m",
      "\u001b[1;31mFileNotFoundError\u001b[0m                         Traceback (most recent call last)",
      "\u001b[1;32m<ipython-input-31-6fab06cda22c>\u001b[0m in \u001b[0;36m<module>\u001b[1;34m\u001b[0m\n\u001b[0;32m      1\u001b[0m \u001b[1;32mfrom\u001b[0m \u001b[0mIPython\u001b[0m\u001b[1;33m.\u001b[0m\u001b[0mcore\u001b[0m\u001b[1;33m.\u001b[0m\u001b[0mdisplay\u001b[0m \u001b[1;32mimport\u001b[0m \u001b[0mHTML\u001b[0m\u001b[1;33m\u001b[0m\u001b[1;33m\u001b[0m\u001b[0m\n\u001b[1;32m----> 2\u001b[1;33m \u001b[0mcss\u001b[0m \u001b[1;33m=\u001b[0m \u001b[0mopen\u001b[0m\u001b[1;33m(\u001b[0m\u001b[1;34m'style-table.css'\u001b[0m\u001b[1;33m)\u001b[0m\u001b[1;33m.\u001b[0m\u001b[0mread\u001b[0m\u001b[1;33m(\u001b[0m\u001b[1;33m)\u001b[0m \u001b[1;33m+\u001b[0m \u001b[0mopen\u001b[0m\u001b[1;33m(\u001b[0m\u001b[1;34m'style-notebook.css'\u001b[0m\u001b[1;33m)\u001b[0m\u001b[1;33m.\u001b[0m\u001b[0mread\u001b[0m\u001b[1;33m(\u001b[0m\u001b[1;33m)\u001b[0m\u001b[1;33m\u001b[0m\u001b[1;33m\u001b[0m\u001b[0m\n\u001b[0m\u001b[0;32m      3\u001b[0m \u001b[0mHTML\u001b[0m\u001b[1;33m(\u001b[0m\u001b[1;34m'<style>{}</style>'\u001b[0m\u001b[1;33m.\u001b[0m\u001b[0mformat\u001b[0m\u001b[1;33m(\u001b[0m\u001b[0mcss\u001b[0m\u001b[1;33m)\u001b[0m\u001b[1;33m)\u001b[0m\u001b[1;33m\u001b[0m\u001b[1;33m\u001b[0m\u001b[0m\n",
      "\u001b[1;31mFileNotFoundError\u001b[0m: [Errno 2] No such file or directory: 'style-table.css'"
     ]
    }
   ],
   "source": [
    "from IPython.core.display import HTML\n",
    "css = open('style-table.css').read() + open('style-notebook.css').read()\n",
    "HTML('<style>{}</style>'.format(css))"
   ]
  },
  {
   "cell_type": "code",
   "execution_count": 2,
   "metadata": {},
   "outputs": [
    {
     "data": {
      "text/html": [
       "<div>\n",
       "<style scoped>\n",
       "    .dataframe tbody tr th:only-of-type {\n",
       "        vertical-align: middle;\n",
       "    }\n",
       "\n",
       "    .dataframe tbody tr th {\n",
       "        vertical-align: top;\n",
       "    }\n",
       "\n",
       "    .dataframe thead th {\n",
       "        text-align: right;\n",
       "    }\n",
       "</style>\n",
       "<table border=\"1\" class=\"dataframe\">\n",
       "  <thead>\n",
       "    <tr style=\"text-align: right;\">\n",
       "      <th></th>\n",
       "      <th>title</th>\n",
       "      <th>year</th>\n",
       "    </tr>\n",
       "  </thead>\n",
       "  <tbody>\n",
       "    <tr>\n",
       "      <th>0</th>\n",
       "      <td>Tasveer Mere Sanam</td>\n",
       "      <td>1996</td>\n",
       "    </tr>\n",
       "    <tr>\n",
       "      <th>1</th>\n",
       "      <td>Only You</td>\n",
       "      <td>1994</td>\n",
       "    </tr>\n",
       "    <tr>\n",
       "      <th>2</th>\n",
       "      <td>El pueblo del terror</td>\n",
       "      <td>1970</td>\n",
       "    </tr>\n",
       "    <tr>\n",
       "      <th>3</th>\n",
       "      <td>Machine</td>\n",
       "      <td>2007</td>\n",
       "    </tr>\n",
       "    <tr>\n",
       "      <th>4</th>\n",
       "      <td>MARy</td>\n",
       "      <td>2008</td>\n",
       "    </tr>\n",
       "  </tbody>\n",
       "</table>\n",
       "</div>"
      ],
      "text/plain": [
       "                  title  year\n",
       "0    Tasveer Mere Sanam  1996\n",
       "1              Only You  1994\n",
       "2  El pueblo del terror  1970\n",
       "3               Machine  2007\n",
       "4                  MARy  2008"
      ]
     },
     "execution_count": 2,
     "metadata": {},
     "output_type": "execute_result"
    }
   ],
   "source": [
    "titles = pd.read_csv(r'C:\\Users\\MURALITHARAN\\Downloads\\titles.csv')\n",
    "titles.head()"
   ]
  },
  {
   "cell_type": "code",
   "execution_count": 39,
   "metadata": {},
   "outputs": [
    {
     "data": {
      "text/html": [
       "<div>\n",
       "<style scoped>\n",
       "    .dataframe tbody tr th:only-of-type {\n",
       "        vertical-align: middle;\n",
       "    }\n",
       "\n",
       "    .dataframe tbody tr th {\n",
       "        vertical-align: top;\n",
       "    }\n",
       "\n",
       "    .dataframe thead th {\n",
       "        text-align: right;\n",
       "    }\n",
       "</style>\n",
       "<table border=\"1\" class=\"dataframe\">\n",
       "  <thead>\n",
       "    <tr style=\"text-align: right;\">\n",
       "      <th></th>\n",
       "      <th>title</th>\n",
       "      <th>year</th>\n",
       "    </tr>\n",
       "  </thead>\n",
       "  <tbody>\n",
       "    <tr>\n",
       "      <th>244909</th>\n",
       "      <td>Black Butterfly in a Colorful World</td>\n",
       "      <td>2018</td>\n",
       "    </tr>\n",
       "    <tr>\n",
       "      <th>244910</th>\n",
       "      <td>Hua fei hua wu chun man cheng</td>\n",
       "      <td>1980</td>\n",
       "    </tr>\n",
       "    <tr>\n",
       "      <th>244911</th>\n",
       "      <td>Nippon dabi katsukyu</td>\n",
       "      <td>1970</td>\n",
       "    </tr>\n",
       "    <tr>\n",
       "      <th>244912</th>\n",
       "      <td>Under Siege 2: Dark Territory</td>\n",
       "      <td>1995</td>\n",
       "    </tr>\n",
       "    <tr>\n",
       "      <th>244913</th>\n",
       "      <td>She Must Be Seeing Things</td>\n",
       "      <td>1987</td>\n",
       "    </tr>\n",
       "  </tbody>\n",
       "</table>\n",
       "</div>"
      ],
      "text/plain": [
       "                                      title  year\n",
       "244909  Black Butterfly in a Colorful World  2018\n",
       "244910        Hua fei hua wu chun man cheng  1980\n",
       "244911                 Nippon dabi katsukyu  1970\n",
       "244912        Under Siege 2: Dark Territory  1995\n",
       "244913            She Must Be Seeing Things  1987"
      ]
     },
     "execution_count": 39,
     "metadata": {},
     "output_type": "execute_result"
    }
   ],
   "source": [
    "titles.tail()"
   ]
  },
  {
   "cell_type": "markdown",
   "metadata": {
    "collapsed": true
   },
   "source": [
    "### How many movies are listed in the titles dataframe?"
   ]
  },
  {
   "cell_type": "code",
   "execution_count": 54,
   "metadata": {},
   "outputs": [],
   "source": [
    "da1=titles[\"title\"].count()\n"
   ]
  },
  {
   "cell_type": "code",
   "execution_count": 55,
   "metadata": {},
   "outputs": [
    {
     "name": "stdout",
     "output_type": "stream",
     "text": [
      "number of movies are listed: 244914\n"
     ]
    }
   ],
   "source": [
    "print(\"number of movies are listed:\",da1)"
   ]
  },
  {
   "cell_type": "markdown",
   "metadata": {
    "collapsed": true
   },
   "source": [
    "### What are the earliest two films listed in the titles dataframe?"
   ]
  },
  {
   "cell_type": "code",
   "execution_count": 32,
   "metadata": {},
   "outputs": [
    {
     "name": "stdout",
     "output_type": "stream",
     "text": [
      "                                                    title  year\n",
      "193222                                         Miss Jerry  1894\n",
      "51388                                  The Startled Lover  1898\n",
      "4584       Reproduction of the Corbett and Jeffries Fight  1899\n",
      "219198                                     May Day Parade  1900\n",
      "47548   Pierrot's Problem, or How to Make a Fat Wife O...  1900\n",
      "...                                                   ...   ...\n",
      "217349                                  The Dreams I Have  2024\n",
      "178993                                    Despicable Me 4  2024\n",
      "34213                                            Avatar 5  2025\n",
      "183018                           The Zero Century: Maetel  2026\n",
      "242196                                          100 Years  2115\n",
      "\n",
      "[244914 rows x 2 columns]\n",
      "                     title\n",
      "193222          Miss Jerry\n",
      "51388   The Startled Lover\n"
     ]
    }
   ],
   "source": [
    " da2=titles.sort_values(\"year\")\n",
    "print(da2)\n",
    "a=da2.iloc[:2,0:1]\n",
    "\n",
    "\n",
    "print(a)"
   ]
  },
  {
   "cell_type": "code",
   "execution_count": null,
   "metadata": {
    "collapsed": true
   },
   "outputs": [],
   "source": []
  },
  {
   "cell_type": "markdown",
   "metadata": {
    "collapsed": true
   },
   "source": [
    "### How many movies have the title \"Hamlet\"?"
   ]
  },
  {
   "cell_type": "code",
   "execution_count": 69,
   "metadata": {},
   "outputs": [
    {
     "name": "stdout",
     "output_type": "stream",
     "text": [
      "57\n"
     ]
    }
   ],
   "source": [
    "\n",
    "\n",
    "da3=titles[\"title\"].str.count(\"Hamlet\").sum()\n",
    "\n",
    "print(da3)\n",
    "\n"
   ]
  },
  {
   "cell_type": "code",
   "execution_count": 3,
   "metadata": {},
   "outputs": [
    {
     "data": {
      "text/html": [
       "<div>\n",
       "<style scoped>\n",
       "    .dataframe tbody tr th:only-of-type {\n",
       "        vertical-align: middle;\n",
       "    }\n",
       "\n",
       "    .dataframe tbody tr th {\n",
       "        vertical-align: top;\n",
       "    }\n",
       "\n",
       "    .dataframe thead th {\n",
       "        text-align: right;\n",
       "    }\n",
       "</style>\n",
       "<table border=\"1\" class=\"dataframe\">\n",
       "  <thead>\n",
       "    <tr style=\"text-align: right;\">\n",
       "      <th></th>\n",
       "      <th>title</th>\n",
       "      <th>year</th>\n",
       "      <th>country</th>\n",
       "      <th>date</th>\n",
       "    </tr>\n",
       "  </thead>\n",
       "  <tbody>\n",
       "    <tr>\n",
       "      <th>0</th>\n",
       "      <td>#73, Shaanthi Nivaasa</td>\n",
       "      <td>2007</td>\n",
       "      <td>India</td>\n",
       "      <td>2007-06-15</td>\n",
       "    </tr>\n",
       "    <tr>\n",
       "      <th>1</th>\n",
       "      <td>#BKKY</td>\n",
       "      <td>2016</td>\n",
       "      <td>Cambodia</td>\n",
       "      <td>2017-10-12</td>\n",
       "    </tr>\n",
       "    <tr>\n",
       "      <th>2</th>\n",
       "      <td>#Beings</td>\n",
       "      <td>2015</td>\n",
       "      <td>Romania</td>\n",
       "      <td>2015-01-29</td>\n",
       "    </tr>\n",
       "    <tr>\n",
       "      <th>3</th>\n",
       "      <td>#Captured</td>\n",
       "      <td>2017</td>\n",
       "      <td>USA</td>\n",
       "      <td>2017-09-05</td>\n",
       "    </tr>\n",
       "    <tr>\n",
       "      <th>4</th>\n",
       "      <td>#Ewankosau saranghaeyo</td>\n",
       "      <td>2015</td>\n",
       "      <td>Philippines</td>\n",
       "      <td>2015-01-21</td>\n",
       "    </tr>\n",
       "  </tbody>\n",
       "</table>\n",
       "</div>"
      ],
      "text/plain": [
       "                    title  year      country        date\n",
       "0   #73, Shaanthi Nivaasa  2007        India  2007-06-15\n",
       "1                   #BKKY  2016     Cambodia  2017-10-12\n",
       "2                 #Beings  2015      Romania  2015-01-29\n",
       "3               #Captured  2017          USA  2017-09-05\n",
       "4  #Ewankosau saranghaeyo  2015  Philippines  2015-01-21"
      ]
     },
     "execution_count": 3,
     "metadata": {},
     "output_type": "execute_result"
    }
   ],
   "source": [
    "release = pd.read_csv(r'C:\\Users\\MURALITHARAN\\Downloads\\release_dates.csv')\n",
    "release.head()\n"
   ]
  },
  {
   "cell_type": "markdown",
   "metadata": {
    "collapsed": true
   },
   "source": [
    "### How many movies are titled \"North by Northwest\"?"
   ]
  },
  {
   "cell_type": "code",
   "execution_count": 79,
   "metadata": {},
   "outputs": [
    {
     "name": "stdout",
     "output_type": "stream",
     "text": [
      "1\n"
     ]
    }
   ],
   "source": [
    "\n",
    "da4=titles[\"title\"].str.contains(\"North by Northwest\").sum()\n",
    "print(da4)"
   ]
  },
  {
   "cell_type": "code",
   "execution_count": null,
   "metadata": {
    "collapsed": true
   },
   "outputs": [],
   "source": []
  },
  {
   "cell_type": "markdown",
   "metadata": {
    "collapsed": true
   },
   "source": [
    "### When was the first movie titled \"Hamlet\" made?"
   ]
  },
  {
   "cell_type": "code",
   "execution_count": 101,
   "metadata": {},
   "outputs": [
    {
     "name": "stdout",
     "output_type": "stream",
     "text": [
      "         title  year\n",
      "52521   Hamlet  1910\n",
      "198234  Hamlet  1911\n",
      "39916   Hamlet  1913\n",
      "10637   Hamlet  1921\n",
      "101728  Hamlet  1948\n",
      "172640  Hamlet  1954\n",
      "161324  Hamlet  1964\n",
      "67406   Hamlet  1969\n",
      "122827  Hamlet  1973\n",
      "133921  Hamlet  1976\n",
      "82130   Hamlet  1987\n",
      "192142  Hamlet  1990\n",
      "178222  Hamlet  1996\n",
      "62000   Hamlet  2000\n",
      "189093  Hamlet  2009\n",
      "173033  Hamlet  2011\n",
      "202025  Hamlet  2014\n",
      "154029  Hamlet  2015\n",
      "88065   Hamlet  2016\n",
      "6422    Hamlet  2017\n",
      "       year\n",
      "52521  1910\n"
     ]
    }
   ],
   "source": [
    "da5=titles[titles[\"title\"]==\"Hamlet\"]\n",
    "da51=da5.sort_values(\"year\")\n",
    "print(da51)\n",
    "\n",
    "result=da51.iloc[0:1,1:]\n",
    "print(result)\n"
   ]
  },
  {
   "cell_type": "markdown",
   "metadata": {
    "collapsed": true
   },
   "source": [
    "### List all of the \"Treasure Island\" movies from earliest to most recent."
   ]
  },
  {
   "cell_type": "code",
   "execution_count": 113,
   "metadata": {},
   "outputs": [
    {
     "name": "stdout",
     "output_type": "stream",
     "text": [
      "                  title  year\n",
      "55686   Treasure Island  1918\n",
      "196514  Treasure Island  1920\n",
      "141822  Treasure Island  1934\n",
      "77354   Treasure Island  1950\n",
      "65051   Treasure Island  1972\n",
      "37238   Treasure Island  1973\n",
      "173051  Treasure Island  1985\n",
      "27076   Treasure Island  1999\n"
     ]
    }
   ],
   "source": [
    "da6=titles[titles[\"title\"]==\"Treasure Island\"]\n",
    "print(da6.sort_values(\"year\"))"
   ]
  },
  {
   "cell_type": "markdown",
   "metadata": {
    "collapsed": true
   },
   "source": [
    "### How many movies were made in the year 1950?"
   ]
  },
  {
   "cell_type": "code",
   "execution_count": 138,
   "metadata": {},
   "outputs": [
    {
     "name": "stdout",
     "output_type": "stream",
     "text": [
      "How many movies were made in the year 1950: 1113\n"
     ]
    }
   ],
   "source": [
    "da7=titles[titles[\"year\"]==1950]\n",
    "print(\"How many movies were made in the year 1950:\",da7[\"year\"].count())"
   ]
  },
  {
   "cell_type": "markdown",
   "metadata": {
    "collapsed": true
   },
   "source": [
    "### How many movies were made in the year 1960?"
   ]
  },
  {
   "cell_type": "code",
   "execution_count": 139,
   "metadata": {},
   "outputs": [
    {
     "name": "stdout",
     "output_type": "stream",
     "text": [
      "How many movies were made in the year 1960: 1549\n"
     ]
    }
   ],
   "source": [
    "da8=titles[titles[\"year\"]==1960]\n",
    "print(\"How many movies were made in the year 1960:\",da8[\"year\"].count())"
   ]
  },
  {
   "cell_type": "markdown",
   "metadata": {
    "collapsed": true
   },
   "source": [
    "### How many movies were made from 1950 through 1959?"
   ]
  },
  {
   "cell_type": "markdown",
   "metadata": {},
   "source": []
  },
  {
   "cell_type": "code",
   "execution_count": 167,
   "metadata": {},
   "outputs": [
    {
     "name": "stdout",
     "output_type": "stream",
     "text": [
      "How many movies were made from 1950 through 1959: 12934\n"
     ]
    }
   ],
   "source": [
    "da9=titles[(titles[\"year\"]>=1950)&(titles[\"year\"]<=1959)]\n",
    "print(\"How many movies were made from 1950 through 1959:\",da9[\"year\"].count())"
   ]
  },
  {
   "cell_type": "markdown",
   "metadata": {
    "collapsed": true
   },
   "source": [
    "### In what years has a movie titled \"Batman\" been released?"
   ]
  },
  {
   "cell_type": "code",
   "execution_count": 175,
   "metadata": {},
   "outputs": [
    {
     "name": "stdout",
     "output_type": "stream",
     "text": [
      "what years has a movie titled Batman been released:\n",
      "        year\n",
      "39349   1943\n",
      "240896  1989\n"
     ]
    }
   ],
   "source": [
    "da10=titles[titles[\"title\"]==\"Batman\"]\n",
    "print(\"what years has a movie titled Batman been released:\")\n",
    "print(da10.iloc[:,1:])\n"
   ]
  },
  {
   "cell_type": "markdown",
   "metadata": {
    "collapsed": true
   },
   "source": [
    "### How many roles were there in the movie \"Inception\"?"
   ]
  },
  {
   "cell_type": "code",
   "execution_count": 34,
   "metadata": {},
   "outputs": [
    {
     "data": {
      "text/html": [
       "<div>\n",
       "<style scoped>\n",
       "    .dataframe tbody tr th:only-of-type {\n",
       "        vertical-align: middle;\n",
       "    }\n",
       "\n",
       "    .dataframe tbody tr th {\n",
       "        vertical-align: top;\n",
       "    }\n",
       "\n",
       "    .dataframe thead th {\n",
       "        text-align: right;\n",
       "    }\n",
       "</style>\n",
       "<table border=\"1\" class=\"dataframe\">\n",
       "  <thead>\n",
       "    <tr style=\"text-align: right;\">\n",
       "      <th></th>\n",
       "      <th>title</th>\n",
       "      <th>year</th>\n",
       "      <th>name</th>\n",
       "      <th>type</th>\n",
       "      <th>character</th>\n",
       "      <th>n</th>\n",
       "    </tr>\n",
       "  </thead>\n",
       "  <tbody>\n",
       "    <tr>\n",
       "      <th>0</th>\n",
       "      <td>Closet Monster</td>\n",
       "      <td>2015</td>\n",
       "      <td>Buffy #1</td>\n",
       "      <td>actor</td>\n",
       "      <td>Buffy 4</td>\n",
       "      <td>31.0</td>\n",
       "    </tr>\n",
       "    <tr>\n",
       "      <th>1</th>\n",
       "      <td>Suuri illusioni</td>\n",
       "      <td>1985</td>\n",
       "      <td>Homo $</td>\n",
       "      <td>actor</td>\n",
       "      <td>Guests</td>\n",
       "      <td>22.0</td>\n",
       "    </tr>\n",
       "    <tr>\n",
       "      <th>2</th>\n",
       "      <td>Battle of the Sexes</td>\n",
       "      <td>2017</td>\n",
       "      <td>$hutter</td>\n",
       "      <td>actor</td>\n",
       "      <td>Bobby Riggs Fan</td>\n",
       "      <td>10.0</td>\n",
       "    </tr>\n",
       "    <tr>\n",
       "      <th>3</th>\n",
       "      <td>Secret in Their Eyes</td>\n",
       "      <td>2015</td>\n",
       "      <td>$hutter</td>\n",
       "      <td>actor</td>\n",
       "      <td>2002 Dodger Fan</td>\n",
       "      <td>NaN</td>\n",
       "    </tr>\n",
       "    <tr>\n",
       "      <th>4</th>\n",
       "      <td>Steve Jobs</td>\n",
       "      <td>2015</td>\n",
       "      <td>$hutter</td>\n",
       "      <td>actor</td>\n",
       "      <td>1988 Opera House Patron</td>\n",
       "      <td>NaN</td>\n",
       "    </tr>\n",
       "    <tr>\n",
       "      <th>5</th>\n",
       "      <td>Straight Outta Compton</td>\n",
       "      <td>2015</td>\n",
       "      <td>$hutter</td>\n",
       "      <td>actor</td>\n",
       "      <td>Club Patron</td>\n",
       "      <td>NaN</td>\n",
       "    </tr>\n",
       "    <tr>\n",
       "      <th>6</th>\n",
       "      <td>Straight Outta Compton</td>\n",
       "      <td>2015</td>\n",
       "      <td>$hutter</td>\n",
       "      <td>actor</td>\n",
       "      <td>Dopeman</td>\n",
       "      <td>NaN</td>\n",
       "    </tr>\n",
       "    <tr>\n",
       "      <th>7</th>\n",
       "      <td>For Thy Love 2</td>\n",
       "      <td>2009</td>\n",
       "      <td>Bee Moe $lim</td>\n",
       "      <td>actor</td>\n",
       "      <td>Thug 1</td>\n",
       "      <td>NaN</td>\n",
       "    </tr>\n",
       "    <tr>\n",
       "      <th>8</th>\n",
       "      <td>Lapis, Ballpen at Diploma, a True to Life Journey</td>\n",
       "      <td>2014</td>\n",
       "      <td>Jori ' Danilo' Jurado Jr.</td>\n",
       "      <td>actor</td>\n",
       "      <td>Jaime (young)</td>\n",
       "      <td>9.0</td>\n",
       "    </tr>\n",
       "    <tr>\n",
       "      <th>9</th>\n",
       "      <td>Desire (III)</td>\n",
       "      <td>2014</td>\n",
       "      <td>Syaiful 'Ariffin</td>\n",
       "      <td>actor</td>\n",
       "      <td>Actor Playing Eteocles from 'Antigone'</td>\n",
       "      <td>NaN</td>\n",
       "    </tr>\n",
       "    <tr>\n",
       "      <th>10</th>\n",
       "      <td>When the Man Went South</td>\n",
       "      <td>2014</td>\n",
       "      <td>Taipaleti 'Atu'ake</td>\n",
       "      <td>actor</td>\n",
       "      <td>Two Palms - Ua'i Paame</td>\n",
       "      <td>8.0</td>\n",
       "    </tr>\n",
       "    <tr>\n",
       "      <th>11</th>\n",
       "      <td>Little Angel (Angelita)</td>\n",
       "      <td>2015</td>\n",
       "      <td>Michael 'babeepower' Viera</td>\n",
       "      <td>actor</td>\n",
       "      <td>Chico</td>\n",
       "      <td>9.0</td>\n",
       "    </tr>\n",
       "    <tr>\n",
       "      <th>12</th>\n",
       "      <td>Mixing Nia</td>\n",
       "      <td>1998</td>\n",
       "      <td>Michael 'babeepower' Viera</td>\n",
       "      <td>actor</td>\n",
       "      <td>Rapper</td>\n",
       "      <td>NaN</td>\n",
       "    </tr>\n",
       "    <tr>\n",
       "      <th>13</th>\n",
       "      <td>The Replacements</td>\n",
       "      <td>2000</td>\n",
       "      <td>Steven 'Bear'Boyd</td>\n",
       "      <td>actor</td>\n",
       "      <td>Defensive Tackle - Washington Sentinels</td>\n",
       "      <td>NaN</td>\n",
       "    </tr>\n",
       "    <tr>\n",
       "      <th>14</th>\n",
       "      <td>All Out Dysfunktion!</td>\n",
       "      <td>2016</td>\n",
       "      <td>Kirlew 'bliss' Vilbon</td>\n",
       "      <td>actor</td>\n",
       "      <td>Bliss</td>\n",
       "      <td>NaN</td>\n",
       "    </tr>\n",
       "    <tr>\n",
       "      <th>15</th>\n",
       "      <td>Gook</td>\n",
       "      <td>2017</td>\n",
       "      <td>Kirlew 'bliss' Vilbon</td>\n",
       "      <td>actor</td>\n",
       "      <td>Bliss</td>\n",
       "      <td>NaN</td>\n",
       "    </tr>\n",
       "    <tr>\n",
       "      <th>16</th>\n",
       "      <td>My Song for You</td>\n",
       "      <td>2010</td>\n",
       "      <td>George 'Bootsy' Thomas</td>\n",
       "      <td>actor</td>\n",
       "      <td>Cooley's Customer</td>\n",
       "      <td>16.0</td>\n",
       "    </tr>\n",
       "    <tr>\n",
       "      <th>17</th>\n",
       "      <td>My Song for You</td>\n",
       "      <td>2010</td>\n",
       "      <td>George 'Bootsy' Thomas</td>\n",
       "      <td>actor</td>\n",
       "      <td>Celebration Guest</td>\n",
       "      <td>16.0</td>\n",
       "    </tr>\n",
       "    <tr>\n",
       "      <th>18</th>\n",
       "      <td>Hustle Beach</td>\n",
       "      <td>2017</td>\n",
       "      <td>Pete 'Boretta' Torres</td>\n",
       "      <td>actor</td>\n",
       "      <td>Tony</td>\n",
       "      <td>NaN</td>\n",
       "    </tr>\n",
       "    <tr>\n",
       "      <th>19</th>\n",
       "      <td>Mariano Mison... NBI</td>\n",
       "      <td>1997</td>\n",
       "      <td>Joseph 'Byron' Sese</td>\n",
       "      <td>actor</td>\n",
       "      <td>Putik's Son</td>\n",
       "      <td>31.0</td>\n",
       "    </tr>\n",
       "    <tr>\n",
       "      <th>20</th>\n",
       "      <td>Natas es Satan</td>\n",
       "      <td>1977</td>\n",
       "      <td>Ramon 'Cartucho' Pena</td>\n",
       "      <td>actor</td>\n",
       "      <td>Nigth Club Owner</td>\n",
       "      <td>NaN</td>\n",
       "    </tr>\n",
       "    <tr>\n",
       "      <th>21</th>\n",
       "      <td>Todo x Sara</td>\n",
       "      <td>2014</td>\n",
       "      <td>Gil 'Colibri'Viera</td>\n",
       "      <td>actor</td>\n",
       "      <td>Llavero</td>\n",
       "      <td>NaN</td>\n",
       "    </tr>\n",
       "    <tr>\n",
       "      <th>22</th>\n",
       "      <td>Barrio Gangsters</td>\n",
       "      <td>2009</td>\n",
       "      <td>Marcelino 'Dibujo' Torres</td>\n",
       "      <td>actor</td>\n",
       "      <td>Dibujo</td>\n",
       "      <td>NaN</td>\n",
       "    </tr>\n",
       "    <tr>\n",
       "      <th>23</th>\n",
       "      <td>Cornmeal, Gunpowder, Ham Hocks and Guitar Strings</td>\n",
       "      <td>2015</td>\n",
       "      <td>Donnie 'Dicky' Clemson</td>\n",
       "      <td>actor</td>\n",
       "      <td>Jeb Kinney</td>\n",
       "      <td>NaN</td>\n",
       "    </tr>\n",
       "    <tr>\n",
       "      <th>24</th>\n",
       "      <td>The LXD: The Secrets of the Ra</td>\n",
       "      <td>2011</td>\n",
       "      <td>Dondraico 'Draico' Johnson</td>\n",
       "      <td>actor</td>\n",
       "      <td>Umbra</td>\n",
       "      <td>NaN</td>\n",
       "    </tr>\n",
       "    <tr>\n",
       "      <th>25</th>\n",
       "      <td>Pelotazo nacional</td>\n",
       "      <td>1993</td>\n",
       "      <td>F?lix 'El Gato'</td>\n",
       "      <td>actor</td>\n",
       "      <td>Rebolledo</td>\n",
       "      <td>12.0</td>\n",
       "    </tr>\n",
       "    <tr>\n",
       "      <th>26</th>\n",
       "      <td>Los tarantos</td>\n",
       "      <td>1963</td>\n",
       "      <td>'El Guisa'</td>\n",
       "      <td>actor</td>\n",
       "      <td>Bailaor</td>\n",
       "      <td>25.0</td>\n",
       "    </tr>\n",
       "    <tr>\n",
       "      <th>27</th>\n",
       "      <td>De la calle</td>\n",
       "      <td>2001</td>\n",
       "      <td>Luis 'El Plojo'</td>\n",
       "      <td>actor</td>\n",
       "      <td>Froil?n plaza del estudiante</td>\n",
       "      <td>80.0</td>\n",
       "    </tr>\n",
       "    <tr>\n",
       "      <th>28</th>\n",
       "      <td>Los tarantos</td>\n",
       "      <td>1963</td>\n",
       "      <td>'El Viti'</td>\n",
       "      <td>actor</td>\n",
       "      <td>Cantaor</td>\n",
       "      <td>20.0</td>\n",
       "    </tr>\n",
       "    <tr>\n",
       "      <th>29</th>\n",
       "      <td>They Want Dick Dickster</td>\n",
       "      <td>2015</td>\n",
       "      <td>Zhavier' (II) 'Fox</td>\n",
       "      <td>actor</td>\n",
       "      <td>Dr. Shrinkalotsky</td>\n",
       "      <td>25.0</td>\n",
       "    </tr>\n",
       "    <tr>\n",
       "      <th>30</th>\n",
       "      <td>Mahogany Sunrise</td>\n",
       "      <td>2014</td>\n",
       "      <td>Gilberto 'Ghetto Bird' Bahena</td>\n",
       "      <td>actor</td>\n",
       "      <td>Jesse</td>\n",
       "      <td>21.0</td>\n",
       "    </tr>\n",
       "    <tr>\n",
       "      <th>31</th>\n",
       "      <td>Wakolda</td>\n",
       "      <td>2013</td>\n",
       "      <td>Marcelo 'Hos' Bearzi</td>\n",
       "      <td>actor</td>\n",
       "      <td>Due?o de la hoster?a</td>\n",
       "      <td>19.0</td>\n",
       "    </tr>\n",
       "    <tr>\n",
       "      <th>32</th>\n",
       "      <td>Killing Device</td>\n",
       "      <td>1993</td>\n",
       "      <td>Van 'Igor' Morrison</td>\n",
       "      <td>actor</td>\n",
       "      <td>Jeep Driver</td>\n",
       "      <td>51.0</td>\n",
       "    </tr>\n",
       "    <tr>\n",
       "      <th>33</th>\n",
       "      <td>Troop 491: the Adventures of the Muddy Lions</td>\n",
       "      <td>2013</td>\n",
       "      <td>Ellias 'Illy' Liban</td>\n",
       "      <td>actor</td>\n",
       "      <td>Big Gook</td>\n",
       "      <td>NaN</td>\n",
       "    </tr>\n",
       "    <tr>\n",
       "      <th>34</th>\n",
       "      <td>Heron's Story</td>\n",
       "      <td>2008</td>\n",
       "      <td>David 'Jumbles' Cook</td>\n",
       "      <td>actor</td>\n",
       "      <td>Man at Bar 3</td>\n",
       "      <td>NaN</td>\n",
       "    </tr>\n",
       "    <tr>\n",
       "      <th>35</th>\n",
       "      <td>Been Down So Long It Looks Like Up to Me</td>\n",
       "      <td>1971</td>\n",
       "      <td>Murray the 'K'</td>\n",
       "      <td>actor</td>\n",
       "      <td>Himself</td>\n",
       "      <td>NaN</td>\n",
       "    </tr>\n",
       "    <tr>\n",
       "      <th>36</th>\n",
       "      <td>I Wanna Hold Your Hand</td>\n",
       "      <td>1978</td>\n",
       "      <td>Murray the 'K'</td>\n",
       "      <td>actor</td>\n",
       "      <td>Himself</td>\n",
       "      <td>48.0</td>\n",
       "    </tr>\n",
       "    <tr>\n",
       "      <th>37</th>\n",
       "      <td>That's the Way of the World</td>\n",
       "      <td>1975</td>\n",
       "      <td>Murray the 'K'</td>\n",
       "      <td>actor</td>\n",
       "      <td>Big John Little</td>\n",
       "      <td>22.0</td>\n",
       "    </tr>\n",
       "    <tr>\n",
       "      <th>38</th>\n",
       "      <td>Violencia urbana</td>\n",
       "      <td>1996</td>\n",
       "      <td>N?stor 'Kick Boxer'</td>\n",
       "      <td>actor</td>\n",
       "      <td>Monta?a</td>\n",
       "      <td>21.0</td>\n",
       "    </tr>\n",
       "    <tr>\n",
       "      <th>39</th>\n",
       "      <td>Nothing Like the Holidays</td>\n",
       "      <td>2008</td>\n",
       "      <td>Johnny 'Koolout' Starks</td>\n",
       "      <td>actor</td>\n",
       "      <td>Alexis' Thug</td>\n",
       "      <td>35.0</td>\n",
       "    </tr>\n",
       "    <tr>\n",
       "      <th>40</th>\n",
       "      <td>Ransum Games</td>\n",
       "      <td>2014</td>\n",
       "      <td>Johnny 'Koolout' Starks</td>\n",
       "      <td>actor</td>\n",
       "      <td>Henchman #3</td>\n",
       "      <td>6.0</td>\n",
       "    </tr>\n",
       "    <tr>\n",
       "      <th>41</th>\n",
       "      <td>Subtle Seduction</td>\n",
       "      <td>2008</td>\n",
       "      <td>Johnny 'Koolout' Starks</td>\n",
       "      <td>actor</td>\n",
       "      <td>Officer Ward</td>\n",
       "      <td>9.0</td>\n",
       "    </tr>\n",
       "    <tr>\n",
       "      <th>42</th>\n",
       "      <td>The Godfather of Green Bay</td>\n",
       "      <td>2005</td>\n",
       "      <td>Johnny 'Koolout' Starks</td>\n",
       "      <td>actor</td>\n",
       "      <td>Marcus</td>\n",
       "      <td>18.0</td>\n",
       "    </tr>\n",
       "    <tr>\n",
       "      <th>43</th>\n",
       "      <td>Using</td>\n",
       "      <td>2015</td>\n",
       "      <td>Johnny 'Koolout' Starks</td>\n",
       "      <td>actor</td>\n",
       "      <td>Randall Dawson</td>\n",
       "      <td>10.0</td>\n",
       "    </tr>\n",
       "    <tr>\n",
       "      <th>44</th>\n",
       "      <td>Krigen</td>\n",
       "      <td>2015</td>\n",
       "      <td>Christian 'Krolle' Pedersen</td>\n",
       "      <td>actor</td>\n",
       "      <td>Kenneth 'Slagter' Jensen</td>\n",
       "      <td>12.0</td>\n",
       "    </tr>\n",
       "    <tr>\n",
       "      <th>45</th>\n",
       "      <td>El secuestro de un periodista</td>\n",
       "      <td>1992</td>\n",
       "      <td>Tony 'La Chispa'</td>\n",
       "      <td>actor</td>\n",
       "      <td>Doctor Giraldo</td>\n",
       "      <td>NaN</td>\n",
       "    </tr>\n",
       "    <tr>\n",
       "      <th>46</th>\n",
       "      <td>Violencia en la sierra</td>\n",
       "      <td>1995</td>\n",
       "      <td>Tony 'La Chispa'</td>\n",
       "      <td>actor</td>\n",
       "      <td>Victoriano</td>\n",
       "      <td>4.0</td>\n",
       "    </tr>\n",
       "    <tr>\n",
       "      <th>47</th>\n",
       "      <td>Rebecca's Window</td>\n",
       "      <td>2006</td>\n",
       "      <td>Yradier 'Lito' Tejada</td>\n",
       "      <td>actor</td>\n",
       "      <td>Sammy</td>\n",
       "      <td>4.0</td>\n",
       "    </tr>\n",
       "    <tr>\n",
       "      <th>48</th>\n",
       "      <td>Zeroville</td>\n",
       "      <td>2018</td>\n",
       "      <td>Mike 'Mad Dog' Adams</td>\n",
       "      <td>actor</td>\n",
       "      <td>Hippie Guitar Player</td>\n",
       "      <td>NaN</td>\n",
       "    </tr>\n",
       "    <tr>\n",
       "      <th>49</th>\n",
       "      <td>In the Land of the Head Hunters</td>\n",
       "      <td>1914</td>\n",
       "      <td>Paddy 'Malid</td>\n",
       "      <td>actor</td>\n",
       "      <td>Kenada</td>\n",
       "      <td>5.0</td>\n",
       "    </tr>\n",
       "  </tbody>\n",
       "</table>\n",
       "</div>"
      ],
      "text/plain": [
       "                                                title  year  \\\n",
       "0                                      Closet Monster  2015   \n",
       "1                                     Suuri illusioni  1985   \n",
       "2                                 Battle of the Sexes  2017   \n",
       "3                                Secret in Their Eyes  2015   \n",
       "4                                          Steve Jobs  2015   \n",
       "5                              Straight Outta Compton  2015   \n",
       "6                              Straight Outta Compton  2015   \n",
       "7                                      For Thy Love 2  2009   \n",
       "8   Lapis, Ballpen at Diploma, a True to Life Journey  2014   \n",
       "9                                        Desire (III)  2014   \n",
       "10                            When the Man Went South  2014   \n",
       "11                            Little Angel (Angelita)  2015   \n",
       "12                                         Mixing Nia  1998   \n",
       "13                                   The Replacements  2000   \n",
       "14                               All Out Dysfunktion!  2016   \n",
       "15                                               Gook  2017   \n",
       "16                                    My Song for You  2010   \n",
       "17                                    My Song for You  2010   \n",
       "18                                       Hustle Beach  2017   \n",
       "19                               Mariano Mison... NBI  1997   \n",
       "20                                     Natas es Satan  1977   \n",
       "21                                        Todo x Sara  2014   \n",
       "22                                   Barrio Gangsters  2009   \n",
       "23  Cornmeal, Gunpowder, Ham Hocks and Guitar Strings  2015   \n",
       "24                     The LXD: The Secrets of the Ra  2011   \n",
       "25                                  Pelotazo nacional  1993   \n",
       "26                                       Los tarantos  1963   \n",
       "27                                        De la calle  2001   \n",
       "28                                       Los tarantos  1963   \n",
       "29                            They Want Dick Dickster  2015   \n",
       "30                                   Mahogany Sunrise  2014   \n",
       "31                                            Wakolda  2013   \n",
       "32                                     Killing Device  1993   \n",
       "33       Troop 491: the Adventures of the Muddy Lions  2013   \n",
       "34                                      Heron's Story  2008   \n",
       "35           Been Down So Long It Looks Like Up to Me  1971   \n",
       "36                             I Wanna Hold Your Hand  1978   \n",
       "37                        That's the Way of the World  1975   \n",
       "38                                   Violencia urbana  1996   \n",
       "39                          Nothing Like the Holidays  2008   \n",
       "40                                       Ransum Games  2014   \n",
       "41                                   Subtle Seduction  2008   \n",
       "42                         The Godfather of Green Bay  2005   \n",
       "43                                              Using  2015   \n",
       "44                                             Krigen  2015   \n",
       "45                      El secuestro de un periodista  1992   \n",
       "46                             Violencia en la sierra  1995   \n",
       "47                                   Rebecca's Window  2006   \n",
       "48                                          Zeroville  2018   \n",
       "49                    In the Land of the Head Hunters  1914   \n",
       "\n",
       "                             name   type  \\\n",
       "0                        Buffy #1  actor   \n",
       "1                          Homo $  actor   \n",
       "2                         $hutter  actor   \n",
       "3                         $hutter  actor   \n",
       "4                         $hutter  actor   \n",
       "5                         $hutter  actor   \n",
       "6                         $hutter  actor   \n",
       "7                    Bee Moe $lim  actor   \n",
       "8       Jori ' Danilo' Jurado Jr.  actor   \n",
       "9                Syaiful 'Ariffin  actor   \n",
       "10             Taipaleti 'Atu'ake  actor   \n",
       "11     Michael 'babeepower' Viera  actor   \n",
       "12     Michael 'babeepower' Viera  actor   \n",
       "13              Steven 'Bear'Boyd  actor   \n",
       "14          Kirlew 'bliss' Vilbon  actor   \n",
       "15          Kirlew 'bliss' Vilbon  actor   \n",
       "16         George 'Bootsy' Thomas  actor   \n",
       "17         George 'Bootsy' Thomas  actor   \n",
       "18          Pete 'Boretta' Torres  actor   \n",
       "19            Joseph 'Byron' Sese  actor   \n",
       "20          Ramon 'Cartucho' Pena  actor   \n",
       "21             Gil 'Colibri'Viera  actor   \n",
       "22      Marcelino 'Dibujo' Torres  actor   \n",
       "23         Donnie 'Dicky' Clemson  actor   \n",
       "24     Dondraico 'Draico' Johnson  actor   \n",
       "25                F?lix 'El Gato'  actor   \n",
       "26                     'El Guisa'  actor   \n",
       "27                Luis 'El Plojo'  actor   \n",
       "28                      'El Viti'  actor   \n",
       "29             Zhavier' (II) 'Fox  actor   \n",
       "30  Gilberto 'Ghetto Bird' Bahena  actor   \n",
       "31           Marcelo 'Hos' Bearzi  actor   \n",
       "32            Van 'Igor' Morrison  actor   \n",
       "33            Ellias 'Illy' Liban  actor   \n",
       "34           David 'Jumbles' Cook  actor   \n",
       "35                 Murray the 'K'  actor   \n",
       "36                 Murray the 'K'  actor   \n",
       "37                 Murray the 'K'  actor   \n",
       "38            N?stor 'Kick Boxer'  actor   \n",
       "39        Johnny 'Koolout' Starks  actor   \n",
       "40        Johnny 'Koolout' Starks  actor   \n",
       "41        Johnny 'Koolout' Starks  actor   \n",
       "42        Johnny 'Koolout' Starks  actor   \n",
       "43        Johnny 'Koolout' Starks  actor   \n",
       "44    Christian 'Krolle' Pedersen  actor   \n",
       "45               Tony 'La Chispa'  actor   \n",
       "46               Tony 'La Chispa'  actor   \n",
       "47          Yradier 'Lito' Tejada  actor   \n",
       "48           Mike 'Mad Dog' Adams  actor   \n",
       "49                   Paddy 'Malid  actor   \n",
       "\n",
       "                                  character     n  \n",
       "0                                   Buffy 4  31.0  \n",
       "1                                    Guests  22.0  \n",
       "2                           Bobby Riggs Fan  10.0  \n",
       "3                           2002 Dodger Fan   NaN  \n",
       "4                   1988 Opera House Patron   NaN  \n",
       "5                               Club Patron   NaN  \n",
       "6                                   Dopeman   NaN  \n",
       "7                                    Thug 1   NaN  \n",
       "8                             Jaime (young)   9.0  \n",
       "9    Actor Playing Eteocles from 'Antigone'   NaN  \n",
       "10                   Two Palms - Ua'i Paame   8.0  \n",
       "11                                    Chico   9.0  \n",
       "12                                   Rapper   NaN  \n",
       "13  Defensive Tackle - Washington Sentinels   NaN  \n",
       "14                                    Bliss   NaN  \n",
       "15                                    Bliss   NaN  \n",
       "16                        Cooley's Customer  16.0  \n",
       "17                        Celebration Guest  16.0  \n",
       "18                                     Tony   NaN  \n",
       "19                              Putik's Son  31.0  \n",
       "20                         Nigth Club Owner   NaN  \n",
       "21                                  Llavero   NaN  \n",
       "22                                   Dibujo   NaN  \n",
       "23                               Jeb Kinney   NaN  \n",
       "24                                    Umbra   NaN  \n",
       "25                                Rebolledo  12.0  \n",
       "26                                  Bailaor  25.0  \n",
       "27             Froil?n plaza del estudiante  80.0  \n",
       "28                                  Cantaor  20.0  \n",
       "29                        Dr. Shrinkalotsky  25.0  \n",
       "30                                    Jesse  21.0  \n",
       "31                     Due?o de la hoster?a  19.0  \n",
       "32                              Jeep Driver  51.0  \n",
       "33                                 Big Gook   NaN  \n",
       "34                             Man at Bar 3   NaN  \n",
       "35                                  Himself   NaN  \n",
       "36                                  Himself  48.0  \n",
       "37                          Big John Little  22.0  \n",
       "38                                  Monta?a  21.0  \n",
       "39                             Alexis' Thug  35.0  \n",
       "40                              Henchman #3   6.0  \n",
       "41                             Officer Ward   9.0  \n",
       "42                                   Marcus  18.0  \n",
       "43                           Randall Dawson  10.0  \n",
       "44                 Kenneth 'Slagter' Jensen  12.0  \n",
       "45                           Doctor Giraldo   NaN  \n",
       "46                               Victoriano   4.0  \n",
       "47                                    Sammy   4.0  \n",
       "48                     Hippie Guitar Player   NaN  \n",
       "49                                   Kenada   5.0  "
      ]
     },
     "execution_count": 34,
     "metadata": {},
     "output_type": "execute_result"
    }
   ],
   "source": [
    "\n",
    "cast = pd.read_csv(r'C:\\Users\\MURALITHARAN\\Downloads\\cast.csv')\n",
    "cast.head(50)\n",
    "\n"
   ]
  },
  {
   "cell_type": "code",
   "execution_count": 297,
   "metadata": {},
   "outputs": [
    {
     "name": "stdout",
     "output_type": "stream",
     "text": [
      "How many roles were there in the movie Inception: 78\n"
     ]
    }
   ],
   "source": [
    "da11=cast[cast[\"title\"]==\"Inception\"]\n",
    "print(\"How many roles were there in the movie Inception:\",da11.iloc[:,3:4].size)"
   ]
  },
  {
   "cell_type": "markdown",
   "metadata": {
    "collapsed": true
   },
   "source": [
    "### How many roles in the movie \"Inception\" are NOT ranked by an \"n\" value?"
   ]
  },
  {
   "cell_type": "code",
   "execution_count": 227,
   "metadata": {},
   "outputs": [
    {
     "name": "stdout",
     "output_type": "stream",
     "text": [
      "How many roles in the movie Inception are NOT ranked by an n value: 1458573\n"
     ]
    }
   ],
   "source": [
    "d12=cast[cast[\"n\"].isnull()]\n",
    "print(\"How many roles in the movie Inception are NOT ranked by an n value:\",d12.iloc[:,5:].size)"
   ]
  },
  {
   "cell_type": "code",
   "execution_count": null,
   "metadata": {
    "collapsed": true
   },
   "outputs": [],
   "source": []
  },
  {
   "cell_type": "markdown",
   "metadata": {
    "collapsed": true
   },
   "source": [
    "### But how many roles in the movie \"Inception\" did receive an \"n\" value?"
   ]
  },
  {
   "cell_type": "code",
   "execution_count": 326,
   "metadata": {},
   "outputs": [
    {
     "name": "stdout",
     "output_type": "stream",
     "text": [
      "But how many roles in the movie Inception did receive an n value: 51\n"
     ]
    }
   ],
   "source": [
    "import numpy as np\n",
    "d13=cast[(cast[\"title\"]==\"Inception\")]\n",
    "d13=d13.dropna()                                      \n",
    "\n",
    "print(\"But how many roles in the movie Inception did receive an n value:\",d13.iloc[:,5:].size)"
   ]
  },
  {
   "cell_type": "code",
   "execution_count": null,
   "metadata": {
    "collapsed": true
   },
   "outputs": [],
   "source": []
  },
  {
   "cell_type": "markdown",
   "metadata": {
    "collapsed": true
   },
   "source": [
    "### Display the cast of \"North by Northwest\" in their correct \"n\"-value order, ignoring roles that did not earn a numeric \"n\" value."
   ]
  },
  {
   "cell_type": "code",
   "execution_count": 327,
   "metadata": {},
   "outputs": [
    {
     "name": "stdout",
     "output_type": "stream",
     "text": [
      "Display the cast of North by Northwest in their correct n value order ignoring roles that did not earn a numeric n value:                          name     n\n",
      "206471           Edward Binns  15.0\n",
      "356707         Leo G. Carroll   5.0\n",
      "464736        Philip Coolidge  13.0\n",
      "665768      Robert Ellenstein  11.0\n",
      "871426             Cary Grant   1.0\n",
      "1275337         Martin Landau   8.0\n",
      "1384780             Ken Lynch  16.0\n",
      "1457165           James Mason   3.0\n",
      "1508344         Patrick McVey  14.0\n",
      "1695173           Philip Ober   7.0\n",
      "1811387          Edward Platt  10.0\n",
      "2295714          Les Tremayne  12.0\n",
      "2447081         Adam Williams   9.0\n",
      "3048272  Josephine Hutchinson   6.0\n",
      "3157232   Jessie Royce Landis   4.0\n",
      "3518333       Eva Marie Saint   2.0\n"
     ]
    }
   ],
   "source": [
    "da14=cast[(cast[\"title\"]==\"North by Northwest\")]\n",
    "da14=da14.iloc[:,[2,5]]\n",
    "print(\"Display the cast of North by Northwest in their correct n value order ignoring roles that did not earn a numeric n value:\",da14.dropna())\n"
   ]
  },
  {
   "cell_type": "code",
   "execution_count": null,
   "metadata": {
    "collapsed": true
   },
   "outputs": [],
   "source": []
  },
  {
   "cell_type": "markdown",
   "metadata": {
    "collapsed": true
   },
   "source": [
    "### Display the entire cast, in \"n\"-order, of the 1972 film \"Sleuth\"."
   ]
  },
  {
   "cell_type": "code",
   "execution_count": 328,
   "metadata": {},
   "outputs": [
    {
     "name": "stdout",
     "output_type": "stream",
     "text": [
      "                       name    n\n",
      "326773        Michael Caine  2.0\n",
      "373876       Alec Cawthorne  3.0\n",
      "1448690        Teddy Martin  6.0\n",
      "1465483  John (II) Matthews  4.0\n",
      "1705394    Laurence Olivier  1.0\n",
      "2724553  Eve (III) Channing  5.0\n"
     ]
    }
   ],
   "source": [
    "da15=cast[(cast[\"year\"]==1972)&(cast[\"title\"]==\"Sleuth\")]\n",
    "print(da15.iloc[:,[2,5]])"
   ]
  },
  {
   "cell_type": "code",
   "execution_count": null,
   "metadata": {
    "collapsed": true
   },
   "outputs": [],
   "source": []
  },
  {
   "cell_type": "markdown",
   "metadata": {
    "collapsed": true
   },
   "source": [
    "### Now display the entire cast, in \"n\"-order, of the 2007 version of \"Sleuth\"."
   ]
  },
  {
   "cell_type": "code",
   "execution_count": 329,
   "metadata": {},
   "outputs": [
    {
     "name": "stdout",
     "output_type": "stream",
     "text": [
      "                        name    n\n",
      "260242       Kenneth Branagh  NaN\n",
      "326774         Michael Caine  1.0\n",
      "373877   Alec (II) Cawthorne  NaN\n",
      "1293634             Jude Law  2.0\n",
      "1805907        Harold Pinter  3.0\n",
      "2724552    Eve (II) Channing  NaN\n",
      "3370424    Carmel O'Sullivan  NaN\n"
     ]
    }
   ],
   "source": [
    "da16=cast[(cast[\"year\"]==2007)&(cast[\"title\"]==\"Sleuth\")]\n",
    "print(da16.iloc[:,[2,5]])"
   ]
  },
  {
   "cell_type": "code",
   "execution_count": null,
   "metadata": {
    "collapsed": true
   },
   "outputs": [],
   "source": []
  },
  {
   "cell_type": "markdown",
   "metadata": {
    "collapsed": true
   },
   "source": [
    "### How many roles were credited in the silent 1921 version of Hamlet?"
   ]
  },
  {
   "cell_type": "code",
   "execution_count": 349,
   "metadata": {},
   "outputs": [
    {
     "name": "stdout",
     "output_type": "stream",
     "text": [
      "9\n"
     ]
    }
   ],
   "source": [
    "da17=cast[(cast[\"title\"]==\"Hamlet\")&(cast[\"year\"]==1921)].character.shape[0]\n",
    "print(da17)"
   ]
  },
  {
   "cell_type": "code",
   "execution_count": null,
   "metadata": {
    "collapsed": true
   },
   "outputs": [],
   "source": []
  },
  {
   "cell_type": "markdown",
   "metadata": {
    "collapsed": true
   },
   "source": [
    "### How many roles were credited in Branagh’s 1996 Hamlet?"
   ]
  },
  {
   "cell_type": "code",
   "execution_count": 350,
   "metadata": {},
   "outputs": [
    {
     "name": "stdout",
     "output_type": "stream",
     "text": [
      "54\n"
     ]
    }
   ],
   "source": [
    "da18=cast[(cast[\"title\"]==\"Hamlet\")&(cast[\"year\"]==1996)].character.shape[0]\n",
    "print(da18)"
   ]
  },
  {
   "cell_type": "code",
   "execution_count": null,
   "metadata": {
    "collapsed": true
   },
   "outputs": [],
   "source": []
  },
  {
   "cell_type": "markdown",
   "metadata": {
    "collapsed": true
   },
   "source": [
    "### How many \"Hamlet\" roles have been listed in all film credits through history?"
   ]
  },
  {
   "cell_type": "code",
   "execution_count": 353,
   "metadata": {},
   "outputs": [
    {
     "name": "stdout",
     "output_type": "stream",
     "text": [
      "342\n"
     ]
    }
   ],
   "source": [
    "da19=cast[cast[\"title\"]==\"Hamlet\"].character.shape[0]\n",
    "print(da19)"
   ]
  },
  {
   "cell_type": "code",
   "execution_count": null,
   "metadata": {
    "collapsed": true
   },
   "outputs": [],
   "source": []
  },
  {
   "cell_type": "markdown",
   "metadata": {
    "collapsed": true
   },
   "source": [
    "### How many people have played an \"Ophelia\"?"
   ]
  },
  {
   "cell_type": "code",
   "execution_count": 361,
   "metadata": {},
   "outputs": [
    {
     "name": "stdout",
     "output_type": "stream",
     "text": [
      "How many people have played an Ophelia: 117\n"
     ]
    }
   ],
   "source": [
    "da20=cast[cast[\"character\"]==\"Ophelia\"].shape[0]\n",
    "print(\"How many people have played an Ophelia:\",da20)"
   ]
  },
  {
   "cell_type": "code",
   "execution_count": null,
   "metadata": {
    "collapsed": true
   },
   "outputs": [],
   "source": []
  },
  {
   "cell_type": "markdown",
   "metadata": {
    "collapsed": true
   },
   "source": [
    "### How many people have played a role called \"The Dude\"?"
   ]
  },
  {
   "cell_type": "code",
   "execution_count": 362,
   "metadata": {},
   "outputs": [
    {
     "name": "stdout",
     "output_type": "stream",
     "text": [
      "How many people have played an The Dude: 19\n"
     ]
    }
   ],
   "source": [
    "da21=cast[cast[\"character\"]==\"The Dude\"].shape[0]\n",
    "print(\"How many people have played an The Dude:\",da21)"
   ]
  },
  {
   "cell_type": "code",
   "execution_count": null,
   "metadata": {
    "collapsed": true
   },
   "outputs": [],
   "source": []
  },
  {
   "cell_type": "markdown",
   "metadata": {
    "collapsed": true
   },
   "source": [
    "### How many people have played a role called \"The Stranger\"?"
   ]
  },
  {
   "cell_type": "code",
   "execution_count": 363,
   "metadata": {},
   "outputs": [
    {
     "name": "stdout",
     "output_type": "stream",
     "text": [
      "How many people have played an The Stranger: 212\n"
     ]
    }
   ],
   "source": [
    "da22=cast[cast[\"character\"]==\"The Stranger\"].shape[0]\n",
    "print(\"How many people have played an The Stranger:\",da22)"
   ]
  },
  {
   "cell_type": "code",
   "execution_count": null,
   "metadata": {
    "collapsed": true
   },
   "outputs": [],
   "source": []
  },
  {
   "cell_type": "markdown",
   "metadata": {
    "collapsed": true
   },
   "source": [
    "### How many roles has Sidney Poitier played throughout his career?"
   ]
  },
  {
   "cell_type": "code",
   "execution_count": 368,
   "metadata": {},
   "outputs": [
    {
     "name": "stdout",
     "output_type": "stream",
     "text": [
      "How many roles has Sidney Poitier played throughout his career: 43\n"
     ]
    }
   ],
   "source": [
    "da23=cast[cast[\"name\"]==\"Sidney Poitier\"].name.shape[0]\n",
    "print(\"How many roles has Sidney Poitier played throughout his career:\",da23)"
   ]
  },
  {
   "cell_type": "code",
   "execution_count": null,
   "metadata": {
    "collapsed": true
   },
   "outputs": [],
   "source": []
  },
  {
   "cell_type": "markdown",
   "metadata": {
    "collapsed": true
   },
   "source": [
    "### How many roles has Judi Dench played?"
   ]
  },
  {
   "cell_type": "code",
   "execution_count": 369,
   "metadata": {},
   "outputs": [
    {
     "name": "stdout",
     "output_type": "stream",
     "text": [
      "How many roles has Judi Dench played: 55\n"
     ]
    }
   ],
   "source": [
    "da24=cast[cast[\"name\"]==\"Judi Dench\"].name.shape[0]\n",
    "print(\"How many roles has Judi Dench played:\",da24)"
   ]
  },
  {
   "cell_type": "code",
   "execution_count": null,
   "metadata": {
    "collapsed": true
   },
   "outputs": [],
   "source": []
  },
  {
   "cell_type": "markdown",
   "metadata": {
    "collapsed": true
   },
   "source": [
    "### List the supporting roles (having n=2) played by Cary Grant in the 1940s, in order by year."
   ]
  },
  {
   "cell_type": "code",
   "execution_count": 12,
   "metadata": {},
   "outputs": [
    {
     "name": "stdout",
     "output_type": "stream",
     "text": [
      "                   title  year        name   type   character    n\n",
      "871423  My Favorite Wife  1940  Cary Grant  actor  Nick Arden  2.0\n"
     ]
    }
   ],
   "source": [
    "da25=cast[(cast[\"name\"]==\"Cary Grant\")&(cast[\"year\"]==1940)&(cast[\"n\"]==2)]\n",
    "print(da25)"
   ]
  },
  {
   "cell_type": "code",
   "execution_count": null,
   "metadata": {
    "collapsed": true
   },
   "outputs": [],
   "source": []
  },
  {
   "cell_type": "markdown",
   "metadata": {
    "collapsed": true
   },
   "source": [
    "### List the leading roles that Cary Grant played in the 1940s in order by year."
   ]
  },
  {
   "cell_type": "code",
   "execution_count": 19,
   "metadata": {},
   "outputs": [
    {
     "name": "stdout",
     "output_type": "stream",
     "text": [
      "                          title  year        name   type           character  \\\n",
      "871407          His Girl Friday  1940  Cary Grant  actor        Walter Burns   \n",
      "871423         My Favorite Wife  1940  Cary Grant  actor          Nick Arden   \n",
      "871448  The Howards of Virginia  1940  Cary Grant  actor         Matt Howard   \n",
      "871450   The Philadelphia Story  1940  Cary Grant  actor  C. K. Dexter Haven   \n",
      "\n",
      "          n  \n",
      "871407  1.0  \n",
      "871423  2.0  \n",
      "871448  1.0  \n",
      "871450  1.0  \n"
     ]
    }
   ],
   "source": [
    "da26=cast[(cast[\"name\"]==\"Cary Grant\")&(cast[\"year\"]==1940)]\n",
    "print(da26)"
   ]
  },
  {
   "cell_type": "code",
   "execution_count": null,
   "metadata": {
    "collapsed": true
   },
   "outputs": [],
   "source": []
  },
  {
   "cell_type": "markdown",
   "metadata": {
    "collapsed": true
   },
   "source": [
    "### How many roles were available for actors in the 1950s?"
   ]
  },
  {
   "cell_type": "code",
   "execution_count": 31,
   "metadata": {},
   "outputs": [
    {
     "name": "stdout",
     "output_type": "stream",
     "text": [
      "How many roles were available for actors in the 1950s: 16760\n"
     ]
    }
   ],
   "source": [
    "da27=cast[(cast[\"type\"]==\"actor\")&(cast[\"year\"]==1950)].type.shape[0]\n",
    "print(\"How many roles were available for actors in the 1950s:\",da27)"
   ]
  },
  {
   "cell_type": "code",
   "execution_count": null,
   "metadata": {
    "collapsed": true
   },
   "outputs": [],
   "source": []
  },
  {
   "cell_type": "markdown",
   "metadata": {
    "collapsed": true
   },
   "source": [
    "### How many roles were available for actresses in the 1950s?"
   ]
  },
  {
   "cell_type": "code",
   "execution_count": 35,
   "metadata": {},
   "outputs": [
    {
     "name": "stdout",
     "output_type": "stream",
     "text": [
      "How many roles were available for actors in the 1950s: 5637\n"
     ]
    }
   ],
   "source": [
    "da28=cast[(cast[\"type\"]==\"actress\")&(cast[\"year\"]==1950)].type.shape[0]\n",
    "print(\"How many roles were available for actors in the 1950s:\",da28)"
   ]
  },
  {
   "cell_type": "code",
   "execution_count": null,
   "metadata": {
    "collapsed": true
   },
   "outputs": [],
   "source": []
  },
  {
   "cell_type": "markdown",
   "metadata": {
    "collapsed": true
   },
   "source": [
    "### How many leading roles (n=1) were available from the beginning of film history through 1980?"
   ]
  },
  {
   "cell_type": "code",
   "execution_count": 43,
   "metadata": {},
   "outputs": [
    {
     "name": "stdout",
     "output_type": "stream",
     "text": [
      "How many leading roles (n=1) were available from the beginning of film history through 1980: 65140\n"
     ]
    }
   ],
   "source": [
    "da29=cast[(cast[\"n\"]==1)&(cast[\"year\"]<=1980)].year.shape[0]\n",
    "print(\"How many leading roles (n=1) were available from the beginning of film history through 1980:\",da29)"
   ]
  },
  {
   "cell_type": "code",
   "execution_count": 42,
   "metadata": {},
   "outputs": [
    {
     "name": "stdout",
     "output_type": "stream",
     "text": [
      "Empty DataFrame\n",
      "Columns: [title, year, country, date]\n",
      "Index: []\n"
     ]
    }
   ],
   "source": []
  },
  {
   "cell_type": "markdown",
   "metadata": {
    "collapsed": true
   },
   "source": [
    "### How many non-leading roles were available through from the beginning of film history through 1980?"
   ]
  },
  {
   "cell_type": "code",
   "execution_count": 45,
   "metadata": {},
   "outputs": [
    {
     "name": "stdout",
     "output_type": "stream",
     "text": [
      "How many non-leading roles were available through from the beginning of film history through 1980: 1182807\n"
     ]
    }
   ],
   "source": [
    "da30=cast[cast[\"year\"]<=1980].year.shape[0]\n",
    "print(\"How many non-leading roles were available through from the beginning of film history through 1980:\",da30)"
   ]
  },
  {
   "cell_type": "code",
   "execution_count": null,
   "metadata": {
    "collapsed": true
   },
   "outputs": [],
   "source": []
  },
  {
   "cell_type": "markdown",
   "metadata": {
    "collapsed": true
   },
   "source": [
    "### How many roles through 1980 were minor enough that they did not warrant a numeric \"n\" rank?"
   ]
  },
  {
   "cell_type": "code",
   "execution_count": 50,
   "metadata": {},
   "outputs": [
    {
     "name": "stdout",
     "output_type": "stream",
     "text": [
      "How many roles through 1980 were minor enough that they did not warrant a numeric n rank: 4466\n"
     ]
    }
   ],
   "source": [
    "da31=cast[(cast[\"year\"]==1980)&(cast[\"n\"].isnull())].year.shape[0]\n",
    "print(\"How many roles through 1980 were minor enough that they did not warrant a numeric n rank:\",da31)"
   ]
  },
  {
   "cell_type": "code",
   "execution_count": null,
   "metadata": {
    "collapsed": true
   },
   "outputs": [],
   "source": []
  }
 ],
 "metadata": {
  "kernelspec": {
   "display_name": "Python 3",
   "language": "python",
   "name": "python3"
  },
  "language_info": {
   "codemirror_mode": {
    "name": "ipython",
    "version": 3
   },
   "file_extension": ".py",
   "mimetype": "text/x-python",
   "name": "python",
   "nbconvert_exporter": "python",
   "pygments_lexer": "ipython3",
   "version": "3.7.6"
  }
 },
 "nbformat": 4,
 "nbformat_minor": 1
}
