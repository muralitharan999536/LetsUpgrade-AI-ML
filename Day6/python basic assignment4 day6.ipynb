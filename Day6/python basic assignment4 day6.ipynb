{
 "cells": [
  {
   "cell_type": "markdown",
   "metadata": {},
   "source": [
    "__Question 1:\n",
    "Assuming that we have some email addresses in the username@companyname.com format, please write program\n",
    "to print the company name of a given email address. Both user names and company names are composed of letters\n",
    "only.__"
   ]
  },
  {
   "cell_type": "code",
   "execution_count": 1,
   "metadata": {},
   "outputs": [
    {
     "name": "stdout",
     "output_type": "stream",
     "text": [
      "tharan\n"
     ]
    }
   ],
   "source": [
    "mail=\"murali@tharan.com\"\n",
    "x=mail.partition(\"@\")\n",
    "txt=x[2].partition(\".\")\n",
    "print(txt[0])\n",
    "\n",
    "\n",
    "        \n",
    "        \n",
    "        \n",
    "    \n",
    "\n"
   ]
  },
  {
   "cell_type": "markdown",
   "metadata": {},
   "source": [
    "__Question 2:\n",
    "Write a program that accepts a comma-separated sequence of words as input and prints the words in a comma\n",
    "separated sequence after sorting them alphabetically.__\n"
   ]
  },
  {
   "cell_type": "code",
   "execution_count": 1,
   "metadata": {},
   "outputs": [
    {
     "name": "stdout",
     "output_type": "stream",
     "text": [
      "enter the words:muraj,djd\n",
      "['djd', 'muraj']\n"
     ]
    }
   ],
   "source": [
    "names=input(\"enter the words:\")\n",
    "word=list(names.split(\",\"))\n",
    "so=sorted(word)\n",
    "print(so)\n",
    "\n"
   ]
  },
  {
   "cell_type": "markdown",
   "metadata": {},
   "source": [
    "__Question 3:\n",
    "Create your own Jupyter Notebook for Sets.\n",
    "Reference link: #https://www.w3schools.com/python/python_sets.asp#__\n"
   ]
  },
  {
   "cell_type": "code",
   "execution_count": 8,
   "metadata": {},
   "outputs": [
    {
     "name": "stdout",
     "output_type": "stream",
     "text": [
      "{'murali', 'cherry', 'tharan'}\n"
     ]
    }
   ],
   "source": [
    "set1= {\"tharan\", \"murali\", \"cherry\"}\n",
    "print(set1)"
   ]
  },
  {
   "cell_type": "markdown",
   "metadata": {},
   "source": [
    "__Question 4:\n",
    "Given a list of n-1 numbers ranging from 1 to n, your task is to find the missing number. There are no duplicates__\n"
   ]
  },
  {
   "cell_type": "code",
   "execution_count": 2,
   "metadata": {},
   "outputs": [
    {
     "name": "stdout",
     "output_type": "stream",
     "text": [
      "input value:1 2 4 6 3 7 8\n",
      "the missing value is: 5\n"
     ]
    }
   ],
   "source": [
    "listinput=list(map(int,input('input value:').split()))\n",
    "for i in range(1,listinput[-1]+1):\n",
    "    if i not in listinput:\n",
    "        print(\"the missing value is:\",i)\n",
    "\n",
    "\n"
   ]
  },
  {
   "cell_type": "markdown",
   "metadata": {},
   "source": [
    "__Question 5:\n",
    "With a given list L, write a program to print this list L after removing all duplicate values with original order reserved.__"
   ]
  },
  {
   "cell_type": "code",
   "execution_count": 2,
   "metadata": {},
   "outputs": [
    {
     "name": "stdout",
     "output_type": "stream",
     "text": [
      "enter a list:12 24 35 24 88 120 155 88 120 155\n",
      "sorted list: 12 24 35 88 120 155\n"
     ]
    }
   ],
   "source": [
    "inputlist=input(\"enter a list:\").split()\n",
    "userlist=list(dict.fromkeys(inputlist))\n",
    "print(\"sorted list:\",*userlist)"
   ]
  }
 ],
 "metadata": {
  "kernelspec": {
   "display_name": "Python 3",
   "language": "python",
   "name": "python3"
  },
  "language_info": {
   "codemirror_mode": {
    "name": "ipython",
    "version": 3
   },
   "file_extension": ".py",
   "mimetype": "text/x-python",
   "name": "python",
   "nbconvert_exporter": "python",
   "pygments_lexer": "ipython3",
   "version": "3.7.6"
  }
 },
 "nbformat": 4,
 "nbformat_minor": 4
}
